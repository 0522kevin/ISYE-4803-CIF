{
 "cells": [
  {
   "cell_type": "code",
   "execution_count": 1,
   "id": "e8d12fb1",
   "metadata": {},
   "outputs": [],
   "source": [
    "import datetime as dt\n",
    "import yfinance as yf\n",
    "import cvxpy as cp"
   ]
  },
  {
   "cell_type": "code",
   "execution_count": 2,
   "id": "f85f8d8c",
   "metadata": {},
   "outputs": [
    {
     "name": "stderr",
     "output_type": "stream",
     "text": [
      "[*********************100%%**********************]  8 of 8 completed\n"
     ]
    },
    {
     "data": {
      "text/html": [
       "<div>\n",
       "<style scoped>\n",
       "    .dataframe tbody tr th:only-of-type {\n",
       "        vertical-align: middle;\n",
       "    }\n",
       "\n",
       "    .dataframe tbody tr th {\n",
       "        vertical-align: top;\n",
       "    }\n",
       "\n",
       "    .dataframe thead th {\n",
       "        text-align: right;\n",
       "    }\n",
       "</style>\n",
       "<table border=\"1\" class=\"dataframe\">\n",
       "  <thead>\n",
       "    <tr style=\"text-align: right;\">\n",
       "      <th>Ticker</th>\n",
       "      <th>AAPL</th>\n",
       "      <th>AMZN</th>\n",
       "      <th>GOOG</th>\n",
       "      <th>MCD</th>\n",
       "      <th>META</th>\n",
       "      <th>MSFT</th>\n",
       "      <th>TSLA</th>\n",
       "      <th>WMT</th>\n",
       "    </tr>\n",
       "    <tr>\n",
       "      <th>Ticker</th>\n",
       "      <th></th>\n",
       "      <th></th>\n",
       "      <th></th>\n",
       "      <th></th>\n",
       "      <th></th>\n",
       "      <th></th>\n",
       "      <th></th>\n",
       "      <th></th>\n",
       "    </tr>\n",
       "  </thead>\n",
       "  <tbody>\n",
       "    <tr>\n",
       "      <th>AAPL</th>\n",
       "      <td>0.000158</td>\n",
       "      <td>0.000116</td>\n",
       "      <td>0.000130</td>\n",
       "      <td>0.000034</td>\n",
       "      <td>0.000170</td>\n",
       "      <td>0.000109</td>\n",
       "      <td>0.000185</td>\n",
       "      <td>0.000022</td>\n",
       "    </tr>\n",
       "    <tr>\n",
       "      <th>AMZN</th>\n",
       "      <td>0.000116</td>\n",
       "      <td>0.000433</td>\n",
       "      <td>0.000246</td>\n",
       "      <td>0.000032</td>\n",
       "      <td>0.000303</td>\n",
       "      <td>0.000190</td>\n",
       "      <td>0.000257</td>\n",
       "      <td>0.000039</td>\n",
       "    </tr>\n",
       "    <tr>\n",
       "      <th>GOOG</th>\n",
       "      <td>0.000130</td>\n",
       "      <td>0.000246</td>\n",
       "      <td>0.000372</td>\n",
       "      <td>0.000025</td>\n",
       "      <td>0.000295</td>\n",
       "      <td>0.000158</td>\n",
       "      <td>0.000218</td>\n",
       "      <td>0.000024</td>\n",
       "    </tr>\n",
       "    <tr>\n",
       "      <th>MCD</th>\n",
       "      <td>0.000034</td>\n",
       "      <td>0.000032</td>\n",
       "      <td>0.000025</td>\n",
       "      <td>0.000077</td>\n",
       "      <td>0.000040</td>\n",
       "      <td>0.000030</td>\n",
       "      <td>0.000024</td>\n",
       "      <td>0.000024</td>\n",
       "    </tr>\n",
       "    <tr>\n",
       "      <th>META</th>\n",
       "      <td>0.000170</td>\n",
       "      <td>0.000303</td>\n",
       "      <td>0.000295</td>\n",
       "      <td>0.000040</td>\n",
       "      <td>0.000630</td>\n",
       "      <td>0.000211</td>\n",
       "      <td>0.000315</td>\n",
       "      <td>0.000022</td>\n",
       "    </tr>\n",
       "    <tr>\n",
       "      <th>MSFT</th>\n",
       "      <td>0.000109</td>\n",
       "      <td>0.000190</td>\n",
       "      <td>0.000158</td>\n",
       "      <td>0.000030</td>\n",
       "      <td>0.000211</td>\n",
       "      <td>0.000250</td>\n",
       "      <td>0.000167</td>\n",
       "      <td>0.000019</td>\n",
       "    </tr>\n",
       "    <tr>\n",
       "      <th>TSLA</th>\n",
       "      <td>0.000185</td>\n",
       "      <td>0.000257</td>\n",
       "      <td>0.000218</td>\n",
       "      <td>0.000024</td>\n",
       "      <td>0.000315</td>\n",
       "      <td>0.000167</td>\n",
       "      <td>0.001100</td>\n",
       "      <td>0.000058</td>\n",
       "    </tr>\n",
       "    <tr>\n",
       "      <th>WMT</th>\n",
       "      <td>0.000022</td>\n",
       "      <td>0.000039</td>\n",
       "      <td>0.000024</td>\n",
       "      <td>0.000024</td>\n",
       "      <td>0.000022</td>\n",
       "      <td>0.000019</td>\n",
       "      <td>0.000058</td>\n",
       "      <td>0.000097</td>\n",
       "    </tr>\n",
       "  </tbody>\n",
       "</table>\n",
       "</div>"
      ],
      "text/plain": [
       "Ticker      AAPL      AMZN      GOOG       MCD      META      MSFT      TSLA  \\\n",
       "Ticker                                                                         \n",
       "AAPL    0.000158  0.000116  0.000130  0.000034  0.000170  0.000109  0.000185   \n",
       "AMZN    0.000116  0.000433  0.000246  0.000032  0.000303  0.000190  0.000257   \n",
       "GOOG    0.000130  0.000246  0.000372  0.000025  0.000295  0.000158  0.000218   \n",
       "MCD     0.000034  0.000032  0.000025  0.000077  0.000040  0.000030  0.000024   \n",
       "META    0.000170  0.000303  0.000295  0.000040  0.000630  0.000211  0.000315   \n",
       "MSFT    0.000109  0.000190  0.000158  0.000030  0.000211  0.000250  0.000167   \n",
       "TSLA    0.000185  0.000257  0.000218  0.000024  0.000315  0.000167  0.001100   \n",
       "WMT     0.000022  0.000039  0.000024  0.000024  0.000022  0.000019  0.000058   \n",
       "\n",
       "Ticker       WMT  \n",
       "Ticker            \n",
       "AAPL    0.000022  \n",
       "AMZN    0.000039  \n",
       "GOOG    0.000024  \n",
       "MCD     0.000024  \n",
       "META    0.000022  \n",
       "MSFT    0.000019  \n",
       "TSLA    0.000058  \n",
       "WMT     0.000097  "
      ]
     },
     "execution_count": 2,
     "metadata": {},
     "output_type": "execute_result"
    }
   ],
   "source": [
    "start = dt.datetime(2023, 1, 1)\n",
    "end = dt.datetime(2023, 12, 31)\n",
    "stocks = ['AAPL', 'AMZN', 'GOOG', 'MCD', 'META', 'MSFT', 'TSLA', 'WMT']\n",
    "data = yf.download(stocks, start, end)['Adj Close']\n",
    "returns = data.pct_change(periods = 1).dropna()\n",
    "mean = returns.mean()\n",
    "cov = returns.cov()\n",
    "cov"
   ]
  },
  {
   "cell_type": "code",
   "execution_count": 3,
   "id": "38088043",
   "metadata": {},
   "outputs": [
    {
     "name": "stdout",
     "output_type": "stream",
     "text": [
      "[2.08848278e-01 4.42228122e-23 5.65226874e-23 2.38412905e-01\n",
      " 2.49336703e-01 6.62766512e-02 5.79096665e-02 1.79215797e-01]\n",
      "-0.0009071499952229643\n"
     ]
    }
   ],
   "source": [
    "x = cp.Variable(len(mean))\n",
    "f = 10*(x@cov@x) - cp.transpose(mean)@x\n",
    "constraint = []\n",
    "constraint += [cp.sum(x) == 1]\n",
    "constraint += [x >= 0]\n",
    "constraint\n",
    "problem = cp.Problem(cp.Minimize(f), constraint)\n",
    "problem.solve()\n",
    "print(x.value)\n",
    "objval1 = problem.objective.value\n",
    "print(objval1)"
   ]
  },
  {
   "cell_type": "code",
   "execution_count": 4,
   "id": "87487fb2",
   "metadata": {},
   "outputs": [
    {
     "data": {
      "text/plain": [
       "array(-0.00027288)"
      ]
     },
     "execution_count": 4,
     "metadata": {},
     "output_type": "execute_result"
    }
   ],
   "source": [
    "constraint[0].dual_value"
   ]
  },
  {
   "cell_type": "code",
   "execution_count": 5,
   "id": "2d949316",
   "metadata": {},
   "outputs": [
    {
     "name": "stdout",
     "output_type": "stream",
     "text": [
      "-0.0009043719198353057\n",
      "2.778075387658511e-06\n"
     ]
    }
   ],
   "source": [
    "x = cp.Variable(len(mean))\n",
    "f = 10*(x@cov@x) - cp.transpose(mean)@x\n",
    "constraint = []\n",
    "constraint += [cp.sum(x) == 1.01]\n",
    "constraint += [x >= 0]\n",
    "constraint\n",
    "problem = cp.Problem(cp.Minimize(f), constraint)\n",
    "problem.solve()\n",
    "objval2 = problem.objective.value\n",
    "print(objval2)\n",
    "print(objval2 - objval1)"
   ]
  },
  {
   "cell_type": "code",
   "execution_count": null,
   "id": "7415e8c5",
   "metadata": {},
   "outputs": [],
   "source": []
  }
 ],
 "metadata": {
  "kernelspec": {
   "display_name": "Python 3 (ipykernel)",
   "language": "python",
   "name": "python3"
  },
  "language_info": {
   "codemirror_mode": {
    "name": "ipython",
    "version": 3
   },
   "file_extension": ".py",
   "mimetype": "text/x-python",
   "name": "python",
   "nbconvert_exporter": "python",
   "pygments_lexer": "ipython3",
   "version": "3.11.5"
  }
 },
 "nbformat": 4,
 "nbformat_minor": 5
}
