{
 "cells": [
  {
   "cell_type": "code",
   "execution_count": 7,
   "id": "4a96afa4",
   "metadata": {},
   "outputs": [],
   "source": [
    "import numpy as np\n",
    "from sklearn import datasets\n",
    "from scipy.sparse.linalg import cg\n",
    "import matplotlib.pyplot as plt"
   ]
  },
  {
   "cell_type": "code",
   "execution_count": 16,
   "id": "4f4f1ba4",
   "metadata": {},
   "outputs": [
    {
     "data": {
      "text/plain": [
       "array([1.00000005, 1.0000001 ])"
      ]
     },
     "execution_count": 16,
     "metadata": {},
     "output_type": "execute_result"
    }
   ],
   "source": [
    "def obj_func(x):\n",
    "    return ((1 - x[0]) ** 2) + 100 * (x[1] - (x[0] ** 2) ** 2)\n",
    "\n",
    "def gradient(x):\n",
    "    return np.array([-2 * (1 - x[0]) - 400 * x[0] * (x[1] - x[0] ** 2),\n",
    "                    200 * (x[1] - x[0] ** 2)])\n",
    "\n",
    "def hess(x):\n",
    "    H = np.array([\n",
    "        [1200 * x[0] ** 2 - 400 * x[1] + 2, -400 * x[0]],\n",
    "        [-400 * x[0], 200]\n",
    "    ])\n",
    "    return H\n",
    "\n",
    "def trunc_newton(f, grad, h, x0, tol = 1e-5, max_iter = 100):\n",
    "    x = x0\n",
    "    pts = [x0]\n",
    "    vals = [obj_func(x0)]\n",
    "    for i in range(max_iter):\n",
    "        g = grad(x)\n",
    "        if np.linalg.norm(g) < tol:\n",
    "            break\n",
    "        p, _ = cg(h(x), -g, maxiter = 100)\n",
    "        t = 1.0\n",
    "        while f(x + t * p) > f(x) + 0.1 * t * np.dot(g, p):\n",
    "            t *= 0.5\n",
    "        x += p \n",
    "        pts.append(x)\n",
    "        vals.append(obj_func(x))\n",
    "    return x, pts, vals\n",
    "\n",
    "xi = np.array([-5236999.0, 7379993.0])\n",
    "result, pts, vals= trunc_newton(obj_func, gradient, hess, xi)\n",
    "result"
   ]
  },
  {
   "cell_type": "code",
   "execution_count": null,
   "id": "1008c15e",
   "metadata": {},
   "outputs": [],
   "source": []
  }
 ],
 "metadata": {
  "kernelspec": {
   "display_name": "Python 3 (ipykernel)",
   "language": "python",
   "name": "python3"
  },
  "language_info": {
   "codemirror_mode": {
    "name": "ipython",
    "version": 3
   },
   "file_extension": ".py",
   "mimetype": "text/x-python",
   "name": "python",
   "nbconvert_exporter": "python",
   "pygments_lexer": "ipython3",
   "version": "3.11.5"
  }
 },
 "nbformat": 4,
 "nbformat_minor": 5
}
