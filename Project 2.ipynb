{
 "cells": [
  {
   "cell_type": "code",
   "execution_count": 1,
   "id": "f4666fe3",
   "metadata": {},
   "outputs": [],
   "source": [
    "import numpy as np\n",
    "from sklearn import datasets\n",
    "from scipy.sparse.linalg import cg"
   ]
  },
  {
   "cell_type": "code",
   "execution_count": 2,
   "id": "2239ea25",
   "metadata": {},
   "outputs": [],
   "source": [
    "bc = datasets.load_breast_cancer()\n",
    "u = bc.data[:, [17, 19]]\n",
    "v = bc.target\n",
    "m = len(v)\n",
    "softplus = lambda x : np.log(1 + np.exp(x)) if x < 100 else x\n",
    "softplusD = lambda x : (1 + np.exp(-x)) ** (-1) if x > -100 else 0.0\n",
    "softplusD2 = lambda x : (2 * np.cosh(x / 2)) ** (-2) if abs(x) < 100 else 0.0\n",
    "def fun(x):\n",
    "    return sum( (softplus(-x @ u[i]) if v[i] == 1 \n",
    "                 else softplus(x @ u[i])) for i in range(m))\n",
    "def gradient(x):\n",
    "    return sum( (-softplusD(-x @ u[i]) * np.array(u[i]) if v[i] == 1 \n",
    "                 else softplusD(x @ u[i])) for i in range(m))\n",
    "def hess(x):\n",
    "    return sum( (softplusD2(-x @ u[i]) * np.outer(u[i], u[i]) if v[i] == 1 \n",
    "                 else softplusD2(x @ u[i]) * np.outer(u[i], u[i])) for i in range(m))"
   ]
  },
  {
   "cell_type": "code",
   "execution_count": 14,
   "id": "00ced1ba",
   "metadata": {},
   "outputs": [
    {
     "name": "stdout",
     "output_type": "stream",
     "text": [
      "[0. 0.]\n",
      "[  31274.04996662 -114631.76657116]\n",
      "[ 3.74437757e+10 -1.37202916e+11]\n",
      "[ 3.74437757e+10 -1.37202916e+11]\n"
     ]
    }
   ],
   "source": [
    "def trunc_newton(fun, gradient, hess, x0, gradtol = 1e-7, max_iter = 100, xbound= 1e6):\n",
    "    x = x0\n",
    "    for i in range(max_iter):\n",
    "        print(x)\n",
    "        g = gradient(x)\n",
    "        if np.linalg.norm(g) <= gradtol:\n",
    "            break\n",
    "        if np.linalg.norm(x) > xbound:\n",
    "            break\n",
    "        p, _ = cg(hess(x), -g, maxiter = 10000, tol = 1e-10)\n",
    "        t = 1.0\n",
    "        while(fun(x + t * p) > fun(x) + 0.1 * t * np.dot(g, p)):\n",
    "            t *= 0.5\n",
    "        x += p \n",
    "    return x\n",
    "\n",
    "xi = np.array([0.0, 0.0])\n",
    "result = trunc_newton(fun, gradient, hess, xi)\n",
    "print(result)"
   ]
  },
  {
   "cell_type": "code",
   "execution_count": null,
   "id": "078710f1",
   "metadata": {},
   "outputs": [],
   "source": []
  }
 ],
 "metadata": {
  "kernelspec": {
   "display_name": "Python 3 (ipykernel)",
   "language": "python",
   "name": "python3"
  },
  "language_info": {
   "codemirror_mode": {
    "name": "ipython",
    "version": 3
   },
   "file_extension": ".py",
   "mimetype": "text/x-python",
   "name": "python",
   "nbconvert_exporter": "python",
   "pygments_lexer": "ipython3",
   "version": "3.11.5"
  }
 },
 "nbformat": 4,
 "nbformat_minor": 5
}
